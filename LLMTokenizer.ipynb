{
 "cells": [
  {
   "cell_type": "code",
   "execution_count": 8,
   "id": "720000d1-a6f7-4ff6-9180-24fad23caed8",
   "metadata": {},
   "outputs": [],
   "source": [
    "with open(\"the-verdict.txt\") as f:\n",
    "    data = f.read()"
   ]
  },
  {
   "cell_type": "code",
   "execution_count": 10,
   "id": "4ccf1468-7e3b-469f-961d-a4bd6bae5f83",
   "metadata": {},
   "outputs": [
    {
     "data": {
      "text/plain": [
       "20479"
      ]
     },
     "execution_count": 10,
     "metadata": {},
     "output_type": "execute_result"
    }
   ],
   "source": [
    "len(data)"
   ]
  },
  {
   "cell_type": "code",
   "execution_count": 26,
   "id": "e64206aa-c2cb-461b-bbd2-2a94473e58d7",
   "metadata": {},
   "outputs": [],
   "source": [
    "import re\n",
    "\n",
    "res = re.split(r'([,.:;?_!\"()\\']|--|\\s)', data)\n",
    "res = [item.strip() for item in res if item.strip()]"
   ]
  },
  {
   "cell_type": "code",
   "execution_count": 27,
   "id": "cfbc4161-6ac2-4c1f-8961-404a4fed785d",
   "metadata": {},
   "outputs": [
    {
     "data": {
      "text/plain": [
       "4690"
      ]
     },
     "execution_count": 27,
     "metadata": {},
     "output_type": "execute_result"
    }
   ],
   "source": [
    "len(res)"
   ]
  },
  {
   "cell_type": "code",
   "execution_count": 28,
   "id": "c57f5e37-2ba5-4d97-9034-9972378ed8ce",
   "metadata": {},
   "outputs": [],
   "source": [
    "words = sorted(set(res))"
   ]
  },
  {
   "cell_type": "code",
   "execution_count": 30,
   "id": "090a5b6e-9dd1-4258-b0e9-d4b01e87beae",
   "metadata": {},
   "outputs": [
    {
     "data": {
      "text/plain": [
       "1130"
      ]
     },
     "execution_count": 30,
     "metadata": {},
     "output_type": "execute_result"
    }
   ],
   "source": [
    "len(words)"
   ]
  },
  {
   "cell_type": "code",
   "execution_count": 31,
   "id": "2da54ff6-1beb-4edc-921f-5be2990dcebc",
   "metadata": {},
   "outputs": [],
   "source": [
    "maps = {token: val for val, token in enumerate(words)}"
   ]
  },
  {
   "cell_type": "code",
   "execution_count": 82,
   "id": "2296e466-97e2-43a3-a122-7bbef6be1979",
   "metadata": {},
   "outputs": [],
   "source": [
    "class EncoderDecoder:\n",
    "    def __init__(self, value):\n",
    "        self.val = value\n",
    "        self.maps = {val: token for token, val in value.items()}\n",
    "        \n",
    "    def encoder(self, data): \n",
    "        res = re.split(r'([,.:;?_!\"()\\']|--|\\s)', data)\n",
    "        res = [item.strip() for item in res if item.strip()]\n",
    "        final = [self.val[i] for i in res]\n",
    "        return final\n",
    "\n",
    "    def decoder(self, ids):\n",
    "        res = \" \".join([self.maps[i] for i in ids])\n",
    "        res = re.sub(r']s+([,.?!\"()\\'])', r'\\1', res)\n",
    "        return res"
   ]
  },
  {
   "cell_type": "code",
   "execution_count": 83,
   "id": "179c6f20-166f-4fc3-916c-7ae2b9deed6a",
   "metadata": {},
   "outputs": [],
   "source": [
    "o = EncoderDecoder(maps)"
   ]
  },
  {
   "cell_type": "code",
   "execution_count": 84,
   "id": "3aa389d2-b032-4c7b-bbea-6bb6993f7fcf",
   "metadata": {},
   "outputs": [
    {
     "data": {
      "text/plain": [
       "[12, 697]"
      ]
     },
     "execution_count": 84,
     "metadata": {},
     "output_type": "execute_result"
    }
   ],
   "source": [
    "o.encoder('Ah my')"
   ]
  },
  {
   "cell_type": "code",
   "execution_count": 85,
   "id": "c78715df-86b6-42ca-8a9a-5c0b833e2096",
   "metadata": {},
   "outputs": [
    {
     "data": {
      "text/plain": [
       "'Ah my'"
      ]
     },
     "execution_count": 85,
     "metadata": {},
     "output_type": "execute_result"
    }
   ],
   "source": [
    "o.decoder([12, 697])"
   ]
  },
  {
   "cell_type": "code",
   "execution_count": 86,
   "id": "7996d11c-b182-4d9f-bb85-5318880f61c7",
   "metadata": {},
   "outputs": [],
   "source": [
    "class EncoderDecoderV2:\n",
    "    def __init__(self, value):\n",
    "        self.val = value\n",
    "        self.maps = {val: token for token, val in value.items()}\n",
    "        \n",
    "    def encoder(self, data): \n",
    "        res = re.split(r'([,.:;?_!\"()\\']|--|\\s)', data)\n",
    "        res = [item.strip() for item in res if item.strip()]\n",
    "        res = [item if item in self.val else \"<|unk|>\" for item in res]\n",
    "        final = [self.val[i] for i in res]\n",
    "        return final\n",
    "\n",
    "    def decoder(self, ids):\n",
    "        res = \" \".join([self.maps[i] for i in ids])\n",
    "        res = re.sub(r']s+([,.?!\"()\\'])', r'\\1', res)\n",
    "        return res"
   ]
  },
  {
   "cell_type": "code",
   "execution_count": 88,
   "id": "e0ff2bc3-e7c6-4e3f-96ab-694fbf76ecca",
   "metadata": {},
   "outputs": [],
   "source": [
    "words = sorted(set(res))\n",
    "words.extend(['<|endoftext|>', '<|unk|>'])"
   ]
  },
  {
   "cell_type": "code",
   "execution_count": 89,
   "id": "96d5dcaa-67a8-437d-af3e-8ee4e4278107",
   "metadata": {},
   "outputs": [],
   "source": [
    "maps = {token: val for val, token in enumerate(words)}"
   ]
  },
  {
   "cell_type": "code",
   "execution_count": 90,
   "id": "b602a602-710a-4bd0-9a99-5e83393f5c0c",
   "metadata": {},
   "outputs": [
    {
     "data": {
      "text/plain": [
       "1132"
      ]
     },
     "execution_count": 90,
     "metadata": {},
     "output_type": "execute_result"
    }
   ],
   "source": [
    "len(maps)"
   ]
  },
  {
   "cell_type": "code",
   "execution_count": 93,
   "id": "70dca9fe-d71c-4ae6-9559-f25d1e280da4",
   "metadata": {},
   "outputs": [],
   "source": [
    "o = EncoderDecoderV2(maps)"
   ]
  },
  {
   "cell_type": "code",
   "execution_count": 96,
   "id": "1872476c-d301-4b2f-bd96-f3be3f5ae55a",
   "metadata": {},
   "outputs": [
    {
     "data": {
      "text/plain": [
       "[12, 697, 1130, 1131]"
      ]
     },
     "execution_count": 96,
     "metadata": {},
     "output_type": "execute_result"
    }
   ],
   "source": [
    "o.encoder('Ah my <|endoftext|> leg')"
   ]
  },
  {
   "cell_type": "code",
   "execution_count": 98,
   "id": "494c1623-2d0f-4920-a29a-5665a625ad60",
   "metadata": {},
   "outputs": [
    {
     "data": {
      "text/plain": [
       "'Ah my <|endoftext|> <|unk|>'"
      ]
     },
     "execution_count": 98,
     "metadata": {},
     "output_type": "execute_result"
    }
   ],
   "source": [
    "o.decoder([12, 697, 1130, 1131])"
   ]
  },
  {
   "cell_type": "code",
   "execution_count": null,
   "id": "d04d939d-0666-414d-a1aa-5e43acb6fcc6",
   "metadata": {},
   "outputs": [],
   "source": []
  }
 ],
 "metadata": {
  "kernelspec": {
   "display_name": "Python 3 (ipykernel)",
   "language": "python",
   "name": "python3"
  },
  "language_info": {
   "codemirror_mode": {
    "name": "ipython",
    "version": 3
   },
   "file_extension": ".py",
   "mimetype": "text/x-python",
   "name": "python",
   "nbconvert_exporter": "python",
   "pygments_lexer": "ipython3",
   "version": "3.10.0"
  }
 },
 "nbformat": 4,
 "nbformat_minor": 5
}
